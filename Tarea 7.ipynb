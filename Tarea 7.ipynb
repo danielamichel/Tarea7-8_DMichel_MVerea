{
 "cells": [
  {
   "cell_type": "markdown",
   "metadata": {},
   "source": [
    "<img style=\"float: left; margin: 30px 15px 15px 15px;\" src=\"https://pngimage.net/wp-content/uploads/2018/06/logo-iteso-png-5.png\" width=\"300\" height=\"500\" /> \n",
    "    \n",
    "    \n",
    "### <font color='navy'> Simulación de procesos financieros\n",
    "\n",
    "**Nombres:**\n",
    "Daniela Michel Mercado\n",
    "Mateo Verea Dorantes\n",
    "\n",
    "**Fecha:** 12 de octubre de 2021\n",
    "\n",
    "**Expediente** : \n",
    "    if724506\n",
    "    \n",
    "**Profesor:** Oscar David Jaramillo Zuluaga\n",
    "    \n",
    "**Link Github**: https://github.com/AlexiaDiaz/Tarea6.AMDiaz_DMichel.git\n",
    "    \n",
    "# Tarea 7: Clase 13"
   ]
  },
  {
   "cell_type": "markdown",
   "metadata": {},
   "source": [
    "Aproxime el valor de la siguiente integral usando el método monte carlo crudo y método de reducción de varianza de muestreo estratíficado\n",
    "​\n",
    "$$I=\\int_{0}^{1}x^2\\text{d}x=\\left.\\frac{x^3}{3}\\right|_{x=0}^{x=1}=\\frac{1}{3}\\approx 0.33333$$\n",
    "​\n",
    "Pasos\n",
    "1. Cree una función que realice el método de muestreo estratíficado, recibiendo como único parámetro de entrada la cantidad de estratos y retornando las variables estratíficadas correspondientes.\n",
    "2. Reporte los resultados de la aproximación de la integral usando montecarlo crudo y muestreo estratíficado, en un Dataframe con la información mostrada en la siguiente imagen:\n",
    "![imagen.png](attachment:imagen.png)"
   ]
  },
  {
   "cell_type": "markdown",
   "metadata": {},
   "source": [
    "### Codigo estudiante 1"
   ]
  },
  {
   "cell_type": "code",
   "execution_count": null,
   "metadata": {},
   "outputs": [],
   "source": []
  },
  {
   "cell_type": "markdown",
   "metadata": {},
   "source": [
    "### Codigo estudiante 2"
   ]
  },
  {
   "cell_type": "code",
   "execution_count": null,
   "metadata": {},
   "outputs": [],
   "source": []
  },
  {
   "cell_type": "markdown",
   "metadata": {},
   "source": [
    "### Parámetros de entrega\n",
    "Se debe de entregar este ejercicio para el próximo lunes 15 de marzo hasta las 6 pm, en un link que se habilitará en canvas."
   ]
  },
  {
   "cell_type": "markdown",
   "metadata": {},
   "source": [
    "<script>\n",
    "  $(document).ready(function(){\n",
    "    $('div.prompt').hide();\n",
    "    $('div.back-to-top').hide();\n",
    "    $('nav#menubar').hide();\n",
    "    $('.breadcrumb').hide();\n",
    "    $('.hidden-print').hide();\n",
    "  });\n",
    "</script>\n",
    "\n",
    "<footer id=\"attribution\" style=\"float:right; color:#808080; background:#fff;\">\n",
    "Created with Jupyter by Oscar David Jaramillo Zuluaga.\n",
    "</footer>"
   ]
  }
 ],
 "metadata": {
  "kernelspec": {
   "display_name": "Python 3",
   "language": "python",
   "name": "python3"
  },
  "language_info": {
   "codemirror_mode": {
    "name": "ipython",
    "version": 3
   },
   "file_extension": ".py",
   "mimetype": "text/x-python",
   "name": "python",
   "nbconvert_exporter": "python",
   "pygments_lexer": "ipython3",
   "version": "3.7.4"
  }
 },
 "nbformat": 4,
 "nbformat_minor": 2
}
