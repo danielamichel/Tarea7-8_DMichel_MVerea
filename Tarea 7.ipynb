{
 "cells": [
  {
   "cell_type": "markdown",
   "metadata": {},
   "source": [
    "<img style=\"float: left; margin: 30px 15px 15px 15px;\" src=\"https://pngimage.net/wp-content/uploads/2018/06/logo-iteso-png-5.png\" width=\"300\" height=\"500\" /> \n",
    "    \n",
    "    \n",
    "### <font color='navy'> Simulación de procesos financieros\n",
    "\n",
    "**Nombres:**\n",
    "Daniela Michel Mercado\n",
    "Mateo Verea Dorantes\n",
    "\n",
    "**Fecha:** 12 de octubre de 2021\n",
    "\n",
    "**Expediente** : \n",
    "    if724506\n",
    "    \n",
    "**Profesor:** Oscar David Jaramillo Zuluaga\n",
    "    \n",
    "**Link Github**: https://github.com/AlexiaDiaz/Tarea6.AMDiaz_DMichel.git\n",
    "    \n",
    "# Tarea 7: Clase 13"
   ]
  },
  {
   "cell_type": "markdown",
   "metadata": {},
   "source": [
    "Aproxime el valor de la siguiente integral usando el método monte carlo crudo y método de reducción de varianza de muestreo estratíficado\n",
    "​\n",
    "$$I=\\int_{0}^{1}x^2\\text{d}x=\\left.\\frac{x^3}{3}\\right|_{x=0}^{x=1}=\\frac{1}{3}\\approx 0.33333$$\n",
    "​\n",
    "Pasos\n",
    "1. Cree una función que realice el método de muestreo estratíficado, recibiendo como único parámetro de entrada la cantidad de estratos y retornando las variables estratíficadas correspondientes.\n",
    "2. Reporte los resultados de la aproximación de la integral usando montecarlo crudo y muestreo estratíficado, en un Dataframe con la información mostrada en la siguiente imagen:\n",
    "![imagen.png](attachment:imagen.png)"
   ]
  },
  {
   "cell_type": "markdown",
   "metadata": {},
   "source": [
    "### Codigo estudiante 1"
   ]
  },
  {
   "cell_type": "code",
   "execution_count": 1,
   "metadata": {},
   "outputs": [],
   "source": [
    "#Librerias a usar\n",
    "import numpy as np\n",
    "import scipy.stats as st\n",
    "import pandas as pd"
   ]
  },
  {
   "cell_type": "code",
   "execution_count": 3,
   "metadata": {},
   "outputs": [],
   "source": [
    "def int_montecarlo(f:'Funcion', a:'Limite inferior', b:'Limite superior', u:'Numeros aleatorios U~[a,b]'):\n",
    "    '''Esta funcion lo que hace es integrar una funcion F con limites de A a B dado una cantidad de numeros aleatorios uniformes U.'''\n",
    "    return (b-a) / len(u) * np.sum(f(u))"
   ]
  },
  {
   "cell_type": "code",
   "execution_count": 4,
   "metadata": {},
   "outputs": [],
   "source": [
    "I = 1/3\n",
    "# intervalo de integración\n",
    "a = 0; b = 1\n",
    "\n",
    "# Cantidad de términos, en escala logarítmica\n",
    "N = np.logspace(1,7,7,dtype=int)\n",
    "\n",
    "# Definimos la tabla donde se mostrarán los resultados\n",
    "df = pd.DataFrame(index=N,columns=['Valor_aproximacion Crudo', 'Error_relativo% Crudo'], dtype='float')\n",
    "df.index.name = \"Cantidad_terminos\"\n",
    "\n",
    "# Números aleatorios dependiente de la cantidad de términos N\n",
    "ui = list(map(lambda N:np.random.rand(N),N))\n",
    "\n",
    "# Calculamos la aproximación por montecarlo dependiendo de la cantidad de\n",
    "# términos que hayamos creado con ui\n",
    "I_m = list(map(lambda Y:int_montecarlo(lambda x:x**2,a,b,Y),ui))\n",
    "\n",
    "# Mostramos los resultados en la tabla previamente creada\n",
    "df.loc[N,\"Valor_aproximacion Crudo\"] = I_m\n",
    "df.loc[N,\"Error_relativo% Crudo\"] = np.abs(df.loc[N,\"Valor_aproximacion Crudo\"]-I)*100/I"
   ]
  },
  {
   "cell_type": "code",
   "execution_count": 5,
   "metadata": {},
   "outputs": [
    {
     "data": {
      "text/html": [
       "<div>\n",
       "<style scoped>\n",
       "    .dataframe tbody tr th:only-of-type {\n",
       "        vertical-align: middle;\n",
       "    }\n",
       "\n",
       "    .dataframe tbody tr th {\n",
       "        vertical-align: top;\n",
       "    }\n",
       "\n",
       "    .dataframe thead th {\n",
       "        text-align: right;\n",
       "    }\n",
       "</style>\n",
       "<table border=\"1\" class=\"dataframe\">\n",
       "  <thead>\n",
       "    <tr style=\"text-align: right;\">\n",
       "      <th></th>\n",
       "      <th>Valor_aproximacion Crudo</th>\n",
       "      <th>Error_relativo% Crudo</th>\n",
       "      <th>Valor_aproximacion Estratificado</th>\n",
       "      <th>Error_relativo% Estratificado</th>\n",
       "    </tr>\n",
       "    <tr>\n",
       "      <th>Cantidad_terminos</th>\n",
       "      <th></th>\n",
       "      <th></th>\n",
       "      <th></th>\n",
       "      <th></th>\n",
       "    </tr>\n",
       "  </thead>\n",
       "  <tbody>\n",
       "    <tr>\n",
       "      <td>10</td>\n",
       "      <td>0.369639</td>\n",
       "      <td>10.891811</td>\n",
       "      <td>0.333488</td>\n",
       "      <td>4.631894e-02</td>\n",
       "    </tr>\n",
       "    <tr>\n",
       "      <td>100</td>\n",
       "      <td>0.340375</td>\n",
       "      <td>2.112390</td>\n",
       "      <td>0.332939</td>\n",
       "      <td>1.184238e-01</td>\n",
       "    </tr>\n",
       "    <tr>\n",
       "      <td>1000</td>\n",
       "      <td>0.351581</td>\n",
       "      <td>5.474331</td>\n",
       "      <td>0.333323</td>\n",
       "      <td>3.009599e-03</td>\n",
       "    </tr>\n",
       "    <tr>\n",
       "      <td>10000</td>\n",
       "      <td>0.331804</td>\n",
       "      <td>0.458709</td>\n",
       "      <td>0.333333</td>\n",
       "      <td>7.106999e-05</td>\n",
       "    </tr>\n",
       "    <tr>\n",
       "      <td>100000</td>\n",
       "      <td>0.333352</td>\n",
       "      <td>0.005525</td>\n",
       "      <td>0.333333</td>\n",
       "      <td>3.618248e-06</td>\n",
       "    </tr>\n",
       "    <tr>\n",
       "      <td>1000000</td>\n",
       "      <td>0.333247</td>\n",
       "      <td>0.025986</td>\n",
       "      <td>0.333333</td>\n",
       "      <td>7.858043e-08</td>\n",
       "    </tr>\n",
       "    <tr>\n",
       "      <td>10000000</td>\n",
       "      <td>0.333356</td>\n",
       "      <td>0.006792</td>\n",
       "      <td>0.333333</td>\n",
       "      <td>2.158607e-09</td>\n",
       "    </tr>\n",
       "  </tbody>\n",
       "</table>\n",
       "</div>"
      ],
      "text/plain": [
       "                   Valor_aproximacion Crudo  Error_relativo% Crudo  \\\n",
       "Cantidad_terminos                                                    \n",
       "10                                 0.369639              10.891811   \n",
       "100                                0.340375               2.112390   \n",
       "1000                               0.351581               5.474331   \n",
       "10000                              0.331804               0.458709   \n",
       "100000                             0.333352               0.005525   \n",
       "1000000                            0.333247               0.025986   \n",
       "10000000                           0.333356               0.006792   \n",
       "\n",
       "                   Valor_aproximacion Estratificado  \\\n",
       "Cantidad_terminos                                     \n",
       "10                                         0.333488   \n",
       "100                                        0.332939   \n",
       "1000                                       0.333323   \n",
       "10000                                      0.333333   \n",
       "100000                                     0.333333   \n",
       "1000000                                    0.333333   \n",
       "10000000                                   0.333333   \n",
       "\n",
       "                   Error_relativo% Estratificado  \n",
       "Cantidad_terminos                                 \n",
       "10                                  4.631894e-02  \n",
       "100                                 1.184238e-01  \n",
       "1000                                3.009599e-03  \n",
       "10000                               7.106999e-05  \n",
       "100000                              3.618248e-06  \n",
       "1000000                             7.858043e-08  \n",
       "10000000                            2.158607e-09  "
      ]
     },
     "execution_count": 5,
     "metadata": {},
     "output_type": "execute_result"
    }
   ],
   "source": [
    "def estratos():\n",
    "    def est(n:\"Numero de estratos\"):\n",
    "        '''Esta funcion nos genera una muestra estratificada con n estratos'''\n",
    "        u=np.random.rand(n)\n",
    "        i=np.arange(0,n)\n",
    "        v=(u+i)/n\n",
    "        return v\n",
    "    N = np.logspace(1,7,7,dtype=int) #Creando nuestros numeros de estratos\n",
    "    ui=list(map(lambda x:est(x),N)) #nuestro vector estratificado con listas de Diferente estratos N\n",
    "    I_e = list(map(lambda Y:int_montecarlo(lambda x:x**2,a,b,Y),ui)) #integral\n",
    "    return I_e\n",
    "I_e=estratos()\n",
    "\n",
    "df.loc[N,\"Valor_aproximacion Estratificado\"] = I_e\n",
    "df.loc[N,\"Error_relativo% Estratificado\"] = np.abs(df.loc[N,\"Valor_aproximacion Estratificado\"]-I)*100/I\n",
    "df"
   ]
  },
  {
   "cell_type": "markdown",
   "metadata": {},
   "source": [
    "### Codigo estudiante 2"
   ]
  },
  {
   "cell_type": "code",
   "execution_count": null,
   "metadata": {},
   "outputs": [],
   "source": []
  },
  {
   "cell_type": "markdown",
   "metadata": {},
   "source": [
    "### Parámetros de entrega\n",
    "Se debe de entregar este ejercicio para el próximo lunes 15 de marzo hasta las 6 pm, en un link que se habilitará en canvas."
   ]
  },
  {
   "cell_type": "markdown",
   "metadata": {},
   "source": [
    "<script>\n",
    "  $(document).ready(function(){\n",
    "    $('div.prompt').hide();\n",
    "    $('div.back-to-top').hide();\n",
    "    $('nav#menubar').hide();\n",
    "    $('.breadcrumb').hide();\n",
    "    $('.hidden-print').hide();\n",
    "  });\n",
    "</script>\n",
    "\n",
    "<footer id=\"attribution\" style=\"float:right; color:#808080; background:#fff;\">\n",
    "Created with Jupyter by Oscar David Jaramillo Zuluaga.\n",
    "</footer>"
   ]
  }
 ],
 "metadata": {
  "kernelspec": {
   "display_name": "Python 3",
   "language": "python",
   "name": "python3"
  },
  "language_info": {
   "codemirror_mode": {
    "name": "ipython",
    "version": 3
   },
   "file_extension": ".py",
   "mimetype": "text/x-python",
   "name": "python",
   "nbconvert_exporter": "python",
   "pygments_lexer": "ipython3",
   "version": "3.7.4"
  }
 },
 "nbformat": 4,
 "nbformat_minor": 2
}
